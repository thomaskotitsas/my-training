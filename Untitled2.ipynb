{
  "nbformat": 4,
  "nbformat_minor": 0,
  "metadata": {
    "colab": {
      "provenance": [],
      "authorship_tag": "ABX9TyOUNtXDqQ5zzaCQf5eLd/ul",
      "include_colab_link": true
    },
    "kernelspec": {
      "name": "python3",
      "display_name": "Python 3"
    },
    "language_info": {
      "name": "python"
    }
  },
  "cells": [
    {
      "cell_type": "markdown",
      "metadata": {
        "id": "view-in-github",
        "colab_type": "text"
      },
      "source": [
        "<a href=\"https://colab.research.google.com/github/thomaskotitsas/my-training/blob/main/Untitled2.ipynb\" target=\"_parent\"><img src=\"https://colab.research.google.com/assets/colab-badge.svg\" alt=\"Open In Colab\"/></a>"
      ]
    },
    {
      "source": [
        "import matplotlib.pyplot as plt\n",
        "import numpy as np\n",
        "from sklearn.model_selection import train_test_split\n",
        "from sklearn.svm import SVC\n",
        "from sklearn.metrics import accuracy_score\n",
        "\n",
        "from sklearn.datasets import load_breast_cancer\n",
        "cancer=load_breast_cancer()\n",
        "\n",
        "X_train,X_test,y_train,y_test=train_test_split(cancer.data,cancer.target,random_state=0)\n",
        "svc=SVC()\n",
        "svc.fit(X_train,y_train)\n",
        "\n",
        "print(\"Accuracy on test set: {:.2f}\".format(svc.score(X_test,y_test)))"
      ],
      "cell_type": "code",
      "metadata": {
        "colab": {
          "base_uri": "https://localhost:8080/"
        },
        "id": "-t5hLCCu4HvX",
        "outputId": "f3978d3d-da55-4a27-d4fd-94ec6b06a547"
      },
      "execution_count": 9,
      "outputs": [
        {
          "output_type": "stream",
          "name": "stdout",
          "text": [
            "Accuracy on test set: 0.94\n"
          ]
        }
      ]
    },
    {
      "cell_type": "code",
      "source": [
        "min_on_training=X_train.min(axis=0)\n",
        "range_on_training=(X_train-min_on_training).max(axis=0)\n",
        "X_train_scaled=(X_train-min_on_training)/range_on_training\n",
        "X_test_scaled=(X_test-min_on_training)/range_on_training"
      ],
      "metadata": {
        "id": "mkfuhFKA4gT2"
      },
      "execution_count": 10,
      "outputs": []
    },
    {
      "cell_type": "code",
      "source": [
        "svc=SVC()\n",
        "svc.fit(X_train_scaled,y_train)\n",
        "print(\"Accuracy on test set: {:.2f}\".format(svc.score(X_test_scaled,y_test)))"
      ],
      "metadata": {
        "colab": {
          "base_uri": "https://localhost:8080/"
        },
        "id": "n0f2BQCD5Xel",
        "outputId": "f547f9ed-56b1-4f16-8ef9-a417ebe1b0e3"
      },
      "execution_count": 11,
      "outputs": [
        {
          "output_type": "stream",
          "name": "stdout",
          "text": [
            "Accuracy on test set: 0.97\n"
          ]
        }
      ]
    }
  ]
}