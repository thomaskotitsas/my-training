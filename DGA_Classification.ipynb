{
  "nbformat": 4,
  "nbformat_minor": 0,
  "metadata": {
    "colab": {
      "provenance": [],
      "include_colab_link": true
    },
    "kernelspec": {
      "name": "python3",
      "display_name": "Python 3"
    },
    "widgets": {
      "application/vnd.jupyter.widget-state+json": {
        "404adf02514d420aa456dad5eb383da4": {
          "model_module": "@jupyter-widgets/controls",
          "model_name": "VBoxModel",
          "model_module_version": "1.5.0",
          "state": {
            "_dom_classes": [
              "widget-interact"
            ],
            "_model_module": "@jupyter-widgets/controls",
            "_model_module_version": "1.5.0",
            "_model_name": "VBoxModel",
            "_view_count": null,
            "_view_module": "@jupyter-widgets/controls",
            "_view_module_version": "1.5.0",
            "_view_name": "VBoxView",
            "box_style": "",
            "children": [
              "IPY_MODEL_e9d8c5c0d2e1448f87a22df62b1c7361",
              "IPY_MODEL_f1e5e7139da84dc9939171c5149bbad6"
            ],
            "layout": "IPY_MODEL_3a7edf5d1d6b4004b42c18ba087efe6c"
          }
        },
        "e9d8c5c0d2e1448f87a22df62b1c7361": {
          "model_module": "@jupyter-widgets/controls",
          "model_name": "ToggleButtonsModel",
          "model_module_version": "1.5.0",
          "state": {
            "_dom_classes": [],
            "_model_module": "@jupyter-widgets/controls",
            "_model_module_version": "1.5.0",
            "_model_name": "ToggleButtonsModel",
            "_options_labels": [
              "Pipeline Plot",
              "Hyperparameters",
              "AUC",
              "Confusion Matrix",
              "Threshold",
              "Precision Recall",
              "Prediction Error",
              "Class Report",
              "Feature Selection",
              "Learning Curve",
              "Manifold Learning",
              "Calibration Curve",
              "Validation Curve",
              "Dimensions",
              "Feature Importance",
              "Feature Importance (All)",
              "Decision Boundary",
              "Lift Chart",
              "Gain Chart",
              "Decision Tree",
              "KS Statistic Plot"
            ],
            "_view_count": null,
            "_view_module": "@jupyter-widgets/controls",
            "_view_module_version": "1.5.0",
            "_view_name": "ToggleButtonsView",
            "button_style": "",
            "description": "Plot Type:",
            "description_tooltip": null,
            "disabled": false,
            "icons": [
              ""
            ],
            "index": 0,
            "layout": "IPY_MODEL_f6a376e220ef4a21ae7bd38c1f03b6ff",
            "style": "IPY_MODEL_24e030b1738348a585b348ff5addec71",
            "tooltips": []
          }
        },
        "f1e5e7139da84dc9939171c5149bbad6": {
          "model_module": "@jupyter-widgets/output",
          "model_name": "OutputModel",
          "model_module_version": "1.0.0",
          "state": {
            "_dom_classes": [],
            "_model_module": "@jupyter-widgets/output",
            "_model_module_version": "1.0.0",
            "_model_name": "OutputModel",
            "_view_count": null,
            "_view_module": "@jupyter-widgets/output",
            "_view_module_version": "1.0.0",
            "_view_name": "OutputView",
            "layout": "IPY_MODEL_7aeacd2a97774cadbb1e7273d63341c1",
            "msg_id": "",
            "outputs": [
              {
                "output_type": "display_data",
                "data": {
                  "text/plain": "<Figure size 2200x600 with 1 Axes>",
                  "image/png": "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\n"
                },
                "metadata": {}
              }
            ]
          }
        },
        "3a7edf5d1d6b4004b42c18ba087efe6c": {
          "model_module": "@jupyter-widgets/base",
          "model_name": "LayoutModel",
          "model_module_version": "1.2.0",
          "state": {
            "_model_module": "@jupyter-widgets/base",
            "_model_module_version": "1.2.0",
            "_model_name": "LayoutModel",
            "_view_count": null,
            "_view_module": "@jupyter-widgets/base",
            "_view_module_version": "1.2.0",
            "_view_name": "LayoutView",
            "align_content": null,
            "align_items": null,
            "align_self": null,
            "border": null,
            "bottom": null,
            "display": null,
            "flex": null,
            "flex_flow": null,
            "grid_area": null,
            "grid_auto_columns": null,
            "grid_auto_flow": null,
            "grid_auto_rows": null,
            "grid_column": null,
            "grid_gap": null,
            "grid_row": null,
            "grid_template_areas": null,
            "grid_template_columns": null,
            "grid_template_rows": null,
            "height": null,
            "justify_content": null,
            "justify_items": null,
            "left": null,
            "margin": null,
            "max_height": null,
            "max_width": null,
            "min_height": null,
            "min_width": null,
            "object_fit": null,
            "object_position": null,
            "order": null,
            "overflow": null,
            "overflow_x": null,
            "overflow_y": null,
            "padding": null,
            "right": null,
            "top": null,
            "visibility": null,
            "width": null
          }
        },
        "f6a376e220ef4a21ae7bd38c1f03b6ff": {
          "model_module": "@jupyter-widgets/base",
          "model_name": "LayoutModel",
          "model_module_version": "1.2.0",
          "state": {
            "_model_module": "@jupyter-widgets/base",
            "_model_module_version": "1.2.0",
            "_model_name": "LayoutModel",
            "_view_count": null,
            "_view_module": "@jupyter-widgets/base",
            "_view_module_version": "1.2.0",
            "_view_name": "LayoutView",
            "align_content": null,
            "align_items": null,
            "align_self": null,
            "border": null,
            "bottom": null,
            "display": null,
            "flex": null,
            "flex_flow": null,
            "grid_area": null,
            "grid_auto_columns": null,
            "grid_auto_flow": null,
            "grid_auto_rows": null,
            "grid_column": null,
            "grid_gap": null,
            "grid_row": null,
            "grid_template_areas": null,
            "grid_template_columns": null,
            "grid_template_rows": null,
            "height": null,
            "justify_content": null,
            "justify_items": null,
            "left": null,
            "margin": null,
            "max_height": null,
            "max_width": null,
            "min_height": null,
            "min_width": null,
            "object_fit": null,
            "object_position": null,
            "order": null,
            "overflow": null,
            "overflow_x": null,
            "overflow_y": null,
            "padding": null,
            "right": null,
            "top": null,
            "visibility": null,
            "width": null
          }
        },
        "24e030b1738348a585b348ff5addec71": {
          "model_module": "@jupyter-widgets/controls",
          "model_name": "ToggleButtonsStyleModel",
          "model_module_version": "1.5.0",
          "state": {
            "_model_module": "@jupyter-widgets/controls",
            "_model_module_version": "1.5.0",
            "_model_name": "ToggleButtonsStyleModel",
            "_view_count": null,
            "_view_module": "@jupyter-widgets/base",
            "_view_module_version": "1.2.0",
            "_view_name": "StyleView",
            "button_width": "",
            "description_width": "",
            "font_weight": ""
          }
        },
        "7aeacd2a97774cadbb1e7273d63341c1": {
          "model_module": "@jupyter-widgets/base",
          "model_name": "LayoutModel",
          "model_module_version": "1.2.0",
          "state": {
            "_model_module": "@jupyter-widgets/base",
            "_model_module_version": "1.2.0",
            "_model_name": "LayoutModel",
            "_view_count": null,
            "_view_module": "@jupyter-widgets/base",
            "_view_module_version": "1.2.0",
            "_view_name": "LayoutView",
            "align_content": null,
            "align_items": null,
            "align_self": null,
            "border": null,
            "bottom": null,
            "display": null,
            "flex": null,
            "flex_flow": null,
            "grid_area": null,
            "grid_auto_columns": null,
            "grid_auto_flow": null,
            "grid_auto_rows": null,
            "grid_column": null,
            "grid_gap": null,
            "grid_row": null,
            "grid_template_areas": null,
            "grid_template_columns": null,
            "grid_template_rows": null,
            "height": null,
            "justify_content": null,
            "justify_items": null,
            "left": null,
            "margin": null,
            "max_height": null,
            "max_width": null,
            "min_height": null,
            "min_width": null,
            "object_fit": null,
            "object_position": null,
            "order": null,
            "overflow": null,
            "overflow_x": null,
            "overflow_y": null,
            "padding": null,
            "right": null,
            "top": null,
            "visibility": null,
            "width": null
          }
        }
      }
    }
  },
  "cells": [
    {
      "cell_type": "markdown",
      "metadata": {
        "id": "view-in-github",
        "colab_type": "text"
      },
      "source": [
        "<a href=\"https://colab.research.google.com/github/thomaskotitsas/my-training/blob/main/DGA_Classification.ipynb\" target=\"_parent\"><img src=\"https://colab.research.google.com/assets/colab-badge.svg\" alt=\"Open In Colab\"/></a>"
      ]
    },
    {
      "cell_type": "code",
      "metadata": {
        "id": "2rvGqQdY9C6s",
        "outputId": "6aa3618a-8970-485f-9d2a-ef4775725adf",
        "colab": {
          "base_uri": "https://localhost:8080/"
        }
      },
      "source": [
        "#εγκατάσταση πακέτου pycaret (https://pycaret.org/)\n",
        "!pip install pycaret\n",
        "#***ΠΡΟΣΟΧΗ*** μετά την εγκατάσταση χρειάζεται restart το session\n",
        "#***θα σας ζητηθεί επανεκκίνηση με σχετικό κόκκινο μήνυμα μετά την ολοκλήρωση της εγκατάστασης\n",
        "#***Πατήστε το κουμπί RESTART SESSION στο σχετικό μήνυμα"
      ],
      "execution_count": 1,
      "outputs": [
        {
          "output_type": "stream",
          "name": "stdout",
          "text": [
            "Collecting pycaret\n",
            "  Downloading pycaret-3.3.2-py3-none-any.whl (486 kB)\n",
            "\u001b[2K     \u001b[90m━━━━━━━━━━━━━━━━━━━━━━━━━━━━━━━━━━━━━━━━\u001b[0m \u001b[32m486.1/486.1 kB\u001b[0m \u001b[31m4.1 MB/s\u001b[0m eta \u001b[36m0:00:00\u001b[0m\n",
            "\u001b[?25hRequirement already satisfied: ipython>=5.5.0 in /usr/local/lib/python3.10/dist-packages (from pycaret) (7.34.0)\n",
            "Requirement already satisfied: ipywidgets>=7.6.5 in /usr/local/lib/python3.10/dist-packages (from pycaret) (7.7.1)\n",
            "Requirement already satisfied: tqdm>=4.62.0 in /usr/local/lib/python3.10/dist-packages (from pycaret) (4.66.4)\n",
            "Requirement already satisfied: numpy<1.27,>=1.21 in /usr/local/lib/python3.10/dist-packages (from pycaret) (1.25.2)\n",
            "Requirement already satisfied: pandas<2.2.0 in /usr/local/lib/python3.10/dist-packages (from pycaret) (2.0.3)\n",
            "Requirement already satisfied: jinja2>=3 in /usr/local/lib/python3.10/dist-packages (from pycaret) (3.1.4)\n",
            "Requirement already satisfied: scipy<=1.11.4,>=1.6.1 in /usr/local/lib/python3.10/dist-packages (from pycaret) (1.11.4)\n",
            "Collecting joblib<1.4,>=1.2.0 (from pycaret)\n",
            "  Downloading joblib-1.3.2-py3-none-any.whl (302 kB)\n",
            "\u001b[2K     \u001b[90m━━━━━━━━━━━━━━━━━━━━━━━━━━━━━━━━━━━━━━━━\u001b[0m \u001b[32m302.2/302.2 kB\u001b[0m \u001b[31m8.9 MB/s\u001b[0m eta \u001b[36m0:00:00\u001b[0m\n",
            "\u001b[?25hCollecting scikit-learn>1.4.0 (from pycaret)\n",
            "  Downloading scikit_learn-1.5.1-cp310-cp310-manylinux_2_17_x86_64.manylinux2014_x86_64.whl (13.4 MB)\n",
            "\u001b[2K     \u001b[90m━━━━━━━━━━━━━━━━━━━━━━━━━━━━━━━━━━━━━━━━\u001b[0m \u001b[32m13.4/13.4 MB\u001b[0m \u001b[31m19.1 MB/s\u001b[0m eta \u001b[36m0:00:00\u001b[0m\n",
            "\u001b[?25hCollecting pyod>=1.1.3 (from pycaret)\n",
            "  Downloading pyod-2.0.1.tar.gz (163 kB)\n",
            "\u001b[2K     \u001b[90m━━━━━━━━━━━━━━━━━━━━━━━━━━━━━━━━━━━━━━━━\u001b[0m \u001b[32m163.8/163.8 kB\u001b[0m \u001b[31m12.1 MB/s\u001b[0m eta \u001b[36m0:00:00\u001b[0m\n",
            "\u001b[?25h  Preparing metadata (setup.py) ... \u001b[?25l\u001b[?25hdone\n",
            "Collecting imbalanced-learn>=0.12.0 (from pycaret)\n",
            "  Downloading imbalanced_learn-0.12.3-py3-none-any.whl (258 kB)\n",
            "\u001b[2K     \u001b[90m━━━━━━━━━━━━━━━━━━━━━━━━━━━━━━━━━━━━━━━━\u001b[0m \u001b[32m258.3/258.3 kB\u001b[0m \u001b[31m4.9 MB/s\u001b[0m eta \u001b[36m0:00:00\u001b[0m\n",
            "\u001b[?25hCollecting category-encoders>=2.4.0 (from pycaret)\n",
            "  Downloading category_encoders-2.6.3-py2.py3-none-any.whl (81 kB)\n",
            "\u001b[2K     \u001b[90m━━━━━━━━━━━━━━━━━━━━━━━━━━━━━━━━━━━━━━━━\u001b[0m \u001b[32m81.9/81.9 kB\u001b[0m \u001b[31m7.5 MB/s\u001b[0m eta \u001b[36m0:00:00\u001b[0m\n",
            "\u001b[?25hRequirement already satisfied: lightgbm>=3.0.0 in /usr/local/lib/python3.10/dist-packages (from pycaret) (4.1.0)\n",
            "Requirement already satisfied: numba>=0.55.0 in /usr/local/lib/python3.10/dist-packages (from pycaret) (0.58.1)\n",
            "Requirement already satisfied: requests>=2.27.1 in /usr/local/lib/python3.10/dist-packages (from pycaret) (2.31.0)\n",
            "Requirement already satisfied: psutil>=5.9.0 in /usr/local/lib/python3.10/dist-packages (from pycaret) (5.9.5)\n",
            "Requirement already satisfied: markupsafe>=2.0.1 in /usr/local/lib/python3.10/dist-packages (from pycaret) (2.1.5)\n",
            "Requirement already satisfied: importlib-metadata>=4.12.0 in /usr/local/lib/python3.10/dist-packages (from pycaret) (8.0.0)\n",
            "Requirement already satisfied: nbformat>=4.2.0 in /usr/local/lib/python3.10/dist-packages (from pycaret) (5.10.4)\n",
            "Requirement already satisfied: cloudpickle in /usr/local/lib/python3.10/dist-packages (from pycaret) (2.2.1)\n",
            "Collecting deprecation>=2.1.0 (from pycaret)\n",
            "  Downloading deprecation-2.1.0-py2.py3-none-any.whl (11 kB)\n",
            "Collecting xxhash (from pycaret)\n",
            "  Downloading xxhash-3.4.1-cp310-cp310-manylinux_2_17_x86_64.manylinux2014_x86_64.whl (194 kB)\n",
            "\u001b[2K     \u001b[90m━━━━━━━━━━━━━━━━━━━━━━━━━━━━━━━━━━━━━━━━\u001b[0m \u001b[32m194.1/194.1 kB\u001b[0m \u001b[31m8.2 MB/s\u001b[0m eta \u001b[36m0:00:00\u001b[0m\n",
            "\u001b[?25hRequirement already satisfied: matplotlib<3.8.0 in /usr/local/lib/python3.10/dist-packages (from pycaret) (3.7.1)\n",
            "Collecting scikit-plot>=0.3.7 (from pycaret)\n",
            "  Downloading scikit_plot-0.3.7-py3-none-any.whl (33 kB)\n",
            "Requirement already satisfied: yellowbrick>=1.4 in /usr/local/lib/python3.10/dist-packages (from pycaret) (1.5)\n",
            "Requirement already satisfied: plotly>=5.14.0 in /usr/local/lib/python3.10/dist-packages (from pycaret) (5.15.0)\n",
            "Collecting kaleido>=0.2.1 (from pycaret)\n",
            "  Downloading kaleido-0.2.1-py2.py3-none-manylinux1_x86_64.whl (79.9 MB)\n",
            "\u001b[2K     \u001b[90m━━━━━━━━━━━━━━━━━━━━━━━━━━━━━━━━━━━━━━━━\u001b[0m \u001b[32m79.9/79.9 MB\u001b[0m \u001b[31m10.5 MB/s\u001b[0m eta \u001b[36m0:00:00\u001b[0m\n",
            "\u001b[?25hCollecting schemdraw==0.15 (from pycaret)\n",
            "  Downloading schemdraw-0.15-py3-none-any.whl (106 kB)\n",
            "\u001b[2K     \u001b[90m━━━━━━━━━━━━━━━━━━━━━━━━━━━━━━━━━━━━━━━━\u001b[0m \u001b[32m106.8/106.8 kB\u001b[0m \u001b[31m10.4 MB/s\u001b[0m eta \u001b[36m0:00:00\u001b[0m\n",
            "\u001b[?25hCollecting plotly-resampler>=0.8.3.1 (from pycaret)\n",
            "  Downloading plotly_resampler-0.10.0-py3-none-any.whl (80 kB)\n",
            "\u001b[2K     \u001b[90m━━━━━━━━━━━━━━━━━━━━━━━━━━━━━━━━━━━━━━━━\u001b[0m \u001b[32m80.7/80.7 kB\u001b[0m \u001b[31m5.4 MB/s\u001b[0m eta \u001b[36m0:00:00\u001b[0m\n",
            "\u001b[?25hRequirement already satisfied: statsmodels>=0.12.1 in /usr/local/lib/python3.10/dist-packages (from pycaret) (0.14.2)\n",
            "Collecting sktime==0.26.0 (from pycaret)\n",
            "  Downloading sktime-0.26.0-py3-none-any.whl (21.8 MB)\n",
            "\u001b[2K     \u001b[90m━━━━━━━━━━━━━━━━━━━━━━━━━━━━━━━━━━━━━━━━\u001b[0m \u001b[32m21.8/21.8 MB\u001b[0m \u001b[31m34.3 MB/s\u001b[0m eta \u001b[36m0:00:00\u001b[0m\n",
            "\u001b[?25hCollecting tbats>=1.1.3 (from pycaret)\n",
            "  Downloading tbats-1.1.3-py3-none-any.whl (44 kB)\n",
            "\u001b[2K     \u001b[90m━━━━━━━━━━━━━━━━━━━━━━━━━━━━━━━━━━━━━━━━\u001b[0m \u001b[32m44.0/44.0 kB\u001b[0m \u001b[31m3.3 MB/s\u001b[0m eta \u001b[36m0:00:00\u001b[0m\n",
            "\u001b[?25hCollecting pmdarima>=2.0.4 (from pycaret)\n",
            "  Downloading pmdarima-2.0.4-cp310-cp310-manylinux_2_17_x86_64.manylinux2014_x86_64.manylinux_2_28_x86_64.whl (2.1 MB)\n",
            "\u001b[2K     \u001b[90m━━━━━━━━━━━━━━━━━━━━━━━━━━━━━━━━━━━━━━━━\u001b[0m \u001b[32m2.1/2.1 MB\u001b[0m \u001b[31m34.2 MB/s\u001b[0m eta \u001b[36m0:00:00\u001b[0m\n",
            "\u001b[?25hCollecting wurlitzer (from pycaret)\n",
            "  Downloading wurlitzer-3.1.1-py3-none-any.whl (8.6 kB)\n",
            "Requirement already satisfied: packaging in /usr/local/lib/python3.10/dist-packages (from sktime==0.26.0->pycaret) (24.1)\n",
            "Collecting scikit-base<0.8.0 (from sktime==0.26.0->pycaret)\n",
            "  Downloading scikit_base-0.7.8-py3-none-any.whl (130 kB)\n",
            "\u001b[2K     \u001b[90m━━━━━━━━━━━━━━━━━━━━━━━━━━━━━━━━━━━━━━━━\u001b[0m \u001b[32m130.1/130.1 kB\u001b[0m \u001b[31m8.0 MB/s\u001b[0m eta \u001b[36m0:00:00\u001b[0m\n",
            "\u001b[?25hCollecting scikit-learn>1.4.0 (from pycaret)\n",
            "  Downloading scikit_learn-1.4.2-cp310-cp310-manylinux_2_17_x86_64.manylinux2014_x86_64.whl (12.1 MB)\n",
            "\u001b[2K     \u001b[90m━━━━━━━━━━━━━━━━━━━━━━━━━━━━━━━━━━━━━━━━\u001b[0m \u001b[32m12.1/12.1 MB\u001b[0m \u001b[31m51.7 MB/s\u001b[0m eta \u001b[36m0:00:00\u001b[0m\n",
            "\u001b[?25hRequirement already satisfied: patsy>=0.5.1 in /usr/local/lib/python3.10/dist-packages (from category-encoders>=2.4.0->pycaret) (0.5.6)\n",
            "Requirement already satisfied: threadpoolctl>=2.0.0 in /usr/local/lib/python3.10/dist-packages (from imbalanced-learn>=0.12.0->pycaret) (3.5.0)\n",
            "Requirement already satisfied: zipp>=0.5 in /usr/local/lib/python3.10/dist-packages (from importlib-metadata>=4.12.0->pycaret) (3.19.2)\n",
            "Requirement already satisfied: setuptools>=18.5 in /usr/local/lib/python3.10/dist-packages (from ipython>=5.5.0->pycaret) (67.7.2)\n",
            "Collecting jedi>=0.16 (from ipython>=5.5.0->pycaret)\n",
            "  Downloading jedi-0.19.1-py2.py3-none-any.whl (1.6 MB)\n",
            "\u001b[2K     \u001b[90m━━━━━━━━━━━━━━━━━━━━━━━━━━━━━━━━━━━━━━━━\u001b[0m \u001b[32m1.6/1.6 MB\u001b[0m \u001b[31m41.8 MB/s\u001b[0m eta \u001b[36m0:00:00\u001b[0m\n",
            "\u001b[?25hRequirement already satisfied: decorator in /usr/local/lib/python3.10/dist-packages (from ipython>=5.5.0->pycaret) (4.4.2)\n",
            "Requirement already satisfied: pickleshare in /usr/local/lib/python3.10/dist-packages (from ipython>=5.5.0->pycaret) (0.7.5)\n",
            "Requirement already satisfied: traitlets>=4.2 in /usr/local/lib/python3.10/dist-packages (from ipython>=5.5.0->pycaret) (5.7.1)\n",
            "Requirement already satisfied: prompt-toolkit!=3.0.0,!=3.0.1,<3.1.0,>=2.0.0 in /usr/local/lib/python3.10/dist-packages (from ipython>=5.5.0->pycaret) (3.0.47)\n",
            "Requirement already satisfied: pygments in /usr/local/lib/python3.10/dist-packages (from ipython>=5.5.0->pycaret) (2.16.1)\n",
            "Requirement already satisfied: backcall in /usr/local/lib/python3.10/dist-packages (from ipython>=5.5.0->pycaret) (0.2.0)\n",
            "Requirement already satisfied: matplotlib-inline in /usr/local/lib/python3.10/dist-packages (from ipython>=5.5.0->pycaret) (0.1.7)\n",
            "Requirement already satisfied: pexpect>4.3 in /usr/local/lib/python3.10/dist-packages (from ipython>=5.5.0->pycaret) (4.9.0)\n",
            "Requirement already satisfied: ipykernel>=4.5.1 in /usr/local/lib/python3.10/dist-packages (from ipywidgets>=7.6.5->pycaret) (5.5.6)\n",
            "Requirement already satisfied: ipython-genutils~=0.2.0 in /usr/local/lib/python3.10/dist-packages (from ipywidgets>=7.6.5->pycaret) (0.2.0)\n",
            "Requirement already satisfied: widgetsnbextension~=3.6.0 in /usr/local/lib/python3.10/dist-packages (from ipywidgets>=7.6.5->pycaret) (3.6.7)\n",
            "Requirement already satisfied: jupyterlab-widgets>=1.0.0 in /usr/local/lib/python3.10/dist-packages (from ipywidgets>=7.6.5->pycaret) (3.0.11)\n",
            "Requirement already satisfied: contourpy>=1.0.1 in /usr/local/lib/python3.10/dist-packages (from matplotlib<3.8.0->pycaret) (1.2.1)\n",
            "Requirement already satisfied: cycler>=0.10 in /usr/local/lib/python3.10/dist-packages (from matplotlib<3.8.0->pycaret) (0.12.1)\n",
            "Requirement already satisfied: fonttools>=4.22.0 in /usr/local/lib/python3.10/dist-packages (from matplotlib<3.8.0->pycaret) (4.53.1)\n",
            "Requirement already satisfied: kiwisolver>=1.0.1 in /usr/local/lib/python3.10/dist-packages (from matplotlib<3.8.0->pycaret) (1.4.5)\n",
            "Requirement already satisfied: pillow>=6.2.0 in /usr/local/lib/python3.10/dist-packages (from matplotlib<3.8.0->pycaret) (9.4.0)\n",
            "Requirement already satisfied: pyparsing>=2.3.1 in /usr/local/lib/python3.10/dist-packages (from matplotlib<3.8.0->pycaret) (3.1.2)\n",
            "Requirement already satisfied: python-dateutil>=2.7 in /usr/local/lib/python3.10/dist-packages (from matplotlib<3.8.0->pycaret) (2.8.2)\n",
            "Requirement already satisfied: fastjsonschema>=2.15 in /usr/local/lib/python3.10/dist-packages (from nbformat>=4.2.0->pycaret) (2.20.0)\n",
            "Requirement already satisfied: jsonschema>=2.6 in /usr/local/lib/python3.10/dist-packages (from nbformat>=4.2.0->pycaret) (4.19.2)\n",
            "Requirement already satisfied: jupyter-core!=5.0.*,>=4.12 in /usr/local/lib/python3.10/dist-packages (from nbformat>=4.2.0->pycaret) (5.7.2)\n",
            "Requirement already satisfied: llvmlite<0.42,>=0.41.0dev0 in /usr/local/lib/python3.10/dist-packages (from numba>=0.55.0->pycaret) (0.41.1)\n",
            "Requirement already satisfied: pytz>=2020.1 in /usr/local/lib/python3.10/dist-packages (from pandas<2.2.0->pycaret) (2023.4)\n",
            "Requirement already satisfied: tzdata>=2022.1 in /usr/local/lib/python3.10/dist-packages (from pandas<2.2.0->pycaret) (2024.1)\n",
            "Requirement already satisfied: tenacity>=6.2.0 in /usr/local/lib/python3.10/dist-packages (from plotly>=5.14.0->pycaret) (8.5.0)\n",
            "Collecting dash>=2.9.0 (from plotly-resampler>=0.8.3.1->pycaret)\n",
            "  Downloading dash-2.17.1-py3-none-any.whl (7.5 MB)\n",
            "\u001b[2K     \u001b[90m━━━━━━━━━━━━━━━━━━━━━━━━━━━━━━━━━━━━━━━━\u001b[0m \u001b[32m7.5/7.5 MB\u001b[0m \u001b[31m58.0 MB/s\u001b[0m eta \u001b[36m0:00:00\u001b[0m\n",
            "\u001b[?25hCollecting orjson<4.0.0,>=3.8.0 (from plotly-resampler>=0.8.3.1->pycaret)\n",
            "  Downloading orjson-3.10.6-cp310-cp310-manylinux_2_17_x86_64.manylinux2014_x86_64.whl (141 kB)\n",
            "\u001b[2K     \u001b[90m━━━━━━━━━━━━━━━━━━━━━━━━━━━━━━━━━━━━━━━━\u001b[0m \u001b[32m141.1/141.1 kB\u001b[0m \u001b[31m704.3 kB/s\u001b[0m eta \u001b[36m0:00:00\u001b[0m\n",
            "\u001b[?25hCollecting tsdownsample>=0.1.3 (from plotly-resampler>=0.8.3.1->pycaret)\n",
            "  Downloading tsdownsample-0.1.3-cp310-cp310-manylinux_2_17_x86_64.manylinux2014_x86_64.whl (2.1 MB)\n",
            "\u001b[2K     \u001b[90m━━━━━━━━━━━━━━━━━━━━━━━━━━━━━━━━━━━━━━━━\u001b[0m \u001b[32m2.1/2.1 MB\u001b[0m \u001b[31m30.1 MB/s\u001b[0m eta \u001b[36m0:00:00\u001b[0m\n",
            "\u001b[?25hRequirement already satisfied: Cython!=0.29.18,!=0.29.31,>=0.29 in /usr/local/lib/python3.10/dist-packages (from pmdarima>=2.0.4->pycaret) (3.0.10)\n",
            "Requirement already satisfied: urllib3 in /usr/local/lib/python3.10/dist-packages (from pmdarima>=2.0.4->pycaret) (2.0.7)\n",
            "Requirement already satisfied: charset-normalizer<4,>=2 in /usr/local/lib/python3.10/dist-packages (from requests>=2.27.1->pycaret) (3.3.2)\n",
            "Requirement already satisfied: idna<4,>=2.5 in /usr/local/lib/python3.10/dist-packages (from requests>=2.27.1->pycaret) (3.7)\n",
            "Requirement already satisfied: certifi>=2017.4.17 in /usr/local/lib/python3.10/dist-packages (from requests>=2.27.1->pycaret) (2024.7.4)\n",
            "Requirement already satisfied: Flask<3.1,>=1.0.4 in /usr/local/lib/python3.10/dist-packages (from dash>=2.9.0->plotly-resampler>=0.8.3.1->pycaret) (2.2.5)\n",
            "Requirement already satisfied: Werkzeug<3.1 in /usr/local/lib/python3.10/dist-packages (from dash>=2.9.0->plotly-resampler>=0.8.3.1->pycaret) (3.0.3)\n",
            "Collecting dash-html-components==2.0.0 (from dash>=2.9.0->plotly-resampler>=0.8.3.1->pycaret)\n",
            "  Downloading dash_html_components-2.0.0-py3-none-any.whl (4.1 kB)\n",
            "Collecting dash-core-components==2.0.0 (from dash>=2.9.0->plotly-resampler>=0.8.3.1->pycaret)\n",
            "  Downloading dash_core_components-2.0.0-py3-none-any.whl (3.8 kB)\n",
            "Collecting dash-table==5.0.0 (from dash>=2.9.0->plotly-resampler>=0.8.3.1->pycaret)\n",
            "  Downloading dash_table-5.0.0-py3-none-any.whl (3.9 kB)\n",
            "Requirement already satisfied: typing-extensions>=4.1.1 in /usr/local/lib/python3.10/dist-packages (from dash>=2.9.0->plotly-resampler>=0.8.3.1->pycaret) (4.12.2)\n",
            "Collecting retrying (from dash>=2.9.0->plotly-resampler>=0.8.3.1->pycaret)\n",
            "  Downloading retrying-1.3.4-py3-none-any.whl (11 kB)\n",
            "Requirement already satisfied: nest-asyncio in /usr/local/lib/python3.10/dist-packages (from dash>=2.9.0->plotly-resampler>=0.8.3.1->pycaret) (1.6.0)\n",
            "Requirement already satisfied: jupyter-client in /usr/local/lib/python3.10/dist-packages (from ipykernel>=4.5.1->ipywidgets>=7.6.5->pycaret) (6.1.12)\n",
            "Requirement already satisfied: tornado>=4.2 in /usr/local/lib/python3.10/dist-packages (from ipykernel>=4.5.1->ipywidgets>=7.6.5->pycaret) (6.3.3)\n",
            "Requirement already satisfied: parso<0.9.0,>=0.8.3 in /usr/local/lib/python3.10/dist-packages (from jedi>=0.16->ipython>=5.5.0->pycaret) (0.8.4)\n",
            "Requirement already satisfied: attrs>=22.2.0 in /usr/local/lib/python3.10/dist-packages (from jsonschema>=2.6->nbformat>=4.2.0->pycaret) (23.2.0)\n",
            "Requirement already satisfied: jsonschema-specifications>=2023.03.6 in /usr/local/lib/python3.10/dist-packages (from jsonschema>=2.6->nbformat>=4.2.0->pycaret) (2023.12.1)\n",
            "Requirement already satisfied: referencing>=0.28.4 in /usr/local/lib/python3.10/dist-packages (from jsonschema>=2.6->nbformat>=4.2.0->pycaret) (0.35.1)\n",
            "Requirement already satisfied: rpds-py>=0.7.1 in /usr/local/lib/python3.10/dist-packages (from jsonschema>=2.6->nbformat>=4.2.0->pycaret) (0.19.0)\n",
            "Requirement already satisfied: platformdirs>=2.5 in /usr/local/lib/python3.10/dist-packages (from jupyter-core!=5.0.*,>=4.12->nbformat>=4.2.0->pycaret) (4.2.2)\n",
            "Requirement already satisfied: six in /usr/local/lib/python3.10/dist-packages (from patsy>=0.5.1->category-encoders>=2.4.0->pycaret) (1.16.0)\n",
            "Requirement already satisfied: ptyprocess>=0.5 in /usr/local/lib/python3.10/dist-packages (from pexpect>4.3->ipython>=5.5.0->pycaret) (0.7.0)\n",
            "Requirement already satisfied: wcwidth in /usr/local/lib/python3.10/dist-packages (from prompt-toolkit!=3.0.0,!=3.0.1,<3.1.0,>=2.0.0->ipython>=5.5.0->pycaret) (0.2.13)\n",
            "Requirement already satisfied: notebook>=4.4.1 in /usr/local/lib/python3.10/dist-packages (from widgetsnbextension~=3.6.0->ipywidgets>=7.6.5->pycaret) (6.5.5)\n",
            "Requirement already satisfied: itsdangerous>=2.0 in /usr/local/lib/python3.10/dist-packages (from Flask<3.1,>=1.0.4->dash>=2.9.0->plotly-resampler>=0.8.3.1->pycaret) (2.2.0)\n",
            "Requirement already satisfied: click>=8.0 in /usr/local/lib/python3.10/dist-packages (from Flask<3.1,>=1.0.4->dash>=2.9.0->plotly-resampler>=0.8.3.1->pycaret) (8.1.7)\n",
            "Requirement already satisfied: pyzmq<25,>=17 in /usr/local/lib/python3.10/dist-packages (from notebook>=4.4.1->widgetsnbextension~=3.6.0->ipywidgets>=7.6.5->pycaret) (24.0.1)\n",
            "Requirement already satisfied: argon2-cffi in /usr/local/lib/python3.10/dist-packages (from notebook>=4.4.1->widgetsnbextension~=3.6.0->ipywidgets>=7.6.5->pycaret) (23.1.0)\n",
            "Requirement already satisfied: nbconvert>=5 in /usr/local/lib/python3.10/dist-packages (from notebook>=4.4.1->widgetsnbextension~=3.6.0->ipywidgets>=7.6.5->pycaret) (6.5.4)\n",
            "Requirement already satisfied: Send2Trash>=1.8.0 in /usr/local/lib/python3.10/dist-packages (from notebook>=4.4.1->widgetsnbextension~=3.6.0->ipywidgets>=7.6.5->pycaret) (1.8.3)\n",
            "Requirement already satisfied: terminado>=0.8.3 in /usr/local/lib/python3.10/dist-packages (from notebook>=4.4.1->widgetsnbextension~=3.6.0->ipywidgets>=7.6.5->pycaret) (0.18.1)\n",
            "Requirement already satisfied: prometheus-client in /usr/local/lib/python3.10/dist-packages (from notebook>=4.4.1->widgetsnbextension~=3.6.0->ipywidgets>=7.6.5->pycaret) (0.20.0)\n",
            "Requirement already satisfied: nbclassic>=0.4.7 in /usr/local/lib/python3.10/dist-packages (from notebook>=4.4.1->widgetsnbextension~=3.6.0->ipywidgets>=7.6.5->pycaret) (1.1.0)\n",
            "Requirement already satisfied: notebook-shim>=0.2.3 in /usr/local/lib/python3.10/dist-packages (from nbclassic>=0.4.7->notebook>=4.4.1->widgetsnbextension~=3.6.0->ipywidgets>=7.6.5->pycaret) (0.2.4)\n",
            "Requirement already satisfied: lxml in /usr/local/lib/python3.10/dist-packages (from nbconvert>=5->notebook>=4.4.1->widgetsnbextension~=3.6.0->ipywidgets>=7.6.5->pycaret) (4.9.4)\n",
            "Requirement already satisfied: beautifulsoup4 in /usr/local/lib/python3.10/dist-packages (from nbconvert>=5->notebook>=4.4.1->widgetsnbextension~=3.6.0->ipywidgets>=7.6.5->pycaret) (4.12.3)\n",
            "Requirement already satisfied: bleach in /usr/local/lib/python3.10/dist-packages (from nbconvert>=5->notebook>=4.4.1->widgetsnbextension~=3.6.0->ipywidgets>=7.6.5->pycaret) (6.1.0)\n",
            "Requirement already satisfied: defusedxml in /usr/local/lib/python3.10/dist-packages (from nbconvert>=5->notebook>=4.4.1->widgetsnbextension~=3.6.0->ipywidgets>=7.6.5->pycaret) (0.7.1)\n",
            "Requirement already satisfied: entrypoints>=0.2.2 in /usr/local/lib/python3.10/dist-packages (from nbconvert>=5->notebook>=4.4.1->widgetsnbextension~=3.6.0->ipywidgets>=7.6.5->pycaret) (0.4)\n",
            "Requirement already satisfied: jupyterlab-pygments in /usr/local/lib/python3.10/dist-packages (from nbconvert>=5->notebook>=4.4.1->widgetsnbextension~=3.6.0->ipywidgets>=7.6.5->pycaret) (0.3.0)\n",
            "Requirement already satisfied: mistune<2,>=0.8.1 in /usr/local/lib/python3.10/dist-packages (from nbconvert>=5->notebook>=4.4.1->widgetsnbextension~=3.6.0->ipywidgets>=7.6.5->pycaret) (0.8.4)\n",
            "Requirement already satisfied: nbclient>=0.5.0 in /usr/local/lib/python3.10/dist-packages (from nbconvert>=5->notebook>=4.4.1->widgetsnbextension~=3.6.0->ipywidgets>=7.6.5->pycaret) (0.10.0)\n",
            "Requirement already satisfied: pandocfilters>=1.4.1 in /usr/local/lib/python3.10/dist-packages (from nbconvert>=5->notebook>=4.4.1->widgetsnbextension~=3.6.0->ipywidgets>=7.6.5->pycaret) (1.5.1)\n",
            "Requirement already satisfied: tinycss2 in /usr/local/lib/python3.10/dist-packages (from nbconvert>=5->notebook>=4.4.1->widgetsnbextension~=3.6.0->ipywidgets>=7.6.5->pycaret) (1.3.0)\n",
            "Requirement already satisfied: argon2-cffi-bindings in /usr/local/lib/python3.10/dist-packages (from argon2-cffi->notebook>=4.4.1->widgetsnbextension~=3.6.0->ipywidgets>=7.6.5->pycaret) (21.2.0)\n",
            "Requirement already satisfied: jupyter-server<3,>=1.8 in /usr/local/lib/python3.10/dist-packages (from notebook-shim>=0.2.3->nbclassic>=0.4.7->notebook>=4.4.1->widgetsnbextension~=3.6.0->ipywidgets>=7.6.5->pycaret) (1.24.0)\n",
            "Requirement already satisfied: cffi>=1.0.1 in /usr/local/lib/python3.10/dist-packages (from argon2-cffi-bindings->argon2-cffi->notebook>=4.4.1->widgetsnbextension~=3.6.0->ipywidgets>=7.6.5->pycaret) (1.16.0)\n",
            "Requirement already satisfied: soupsieve>1.2 in /usr/local/lib/python3.10/dist-packages (from beautifulsoup4->nbconvert>=5->notebook>=4.4.1->widgetsnbextension~=3.6.0->ipywidgets>=7.6.5->pycaret) (2.5)\n",
            "Requirement already satisfied: webencodings in /usr/local/lib/python3.10/dist-packages (from bleach->nbconvert>=5->notebook>=4.4.1->widgetsnbextension~=3.6.0->ipywidgets>=7.6.5->pycaret) (0.5.1)\n",
            "Requirement already satisfied: pycparser in /usr/local/lib/python3.10/dist-packages (from cffi>=1.0.1->argon2-cffi-bindings->argon2-cffi->notebook>=4.4.1->widgetsnbextension~=3.6.0->ipywidgets>=7.6.5->pycaret) (2.22)\n",
            "Requirement already satisfied: anyio<4,>=3.1.0 in /usr/local/lib/python3.10/dist-packages (from jupyter-server<3,>=1.8->notebook-shim>=0.2.3->nbclassic>=0.4.7->notebook>=4.4.1->widgetsnbextension~=3.6.0->ipywidgets>=7.6.5->pycaret) (3.7.1)\n",
            "Requirement already satisfied: websocket-client in /usr/local/lib/python3.10/dist-packages (from jupyter-server<3,>=1.8->notebook-shim>=0.2.3->nbclassic>=0.4.7->notebook>=4.4.1->widgetsnbextension~=3.6.0->ipywidgets>=7.6.5->pycaret) (1.8.0)\n",
            "Requirement already satisfied: sniffio>=1.1 in /usr/local/lib/python3.10/dist-packages (from anyio<4,>=3.1.0->jupyter-server<3,>=1.8->notebook-shim>=0.2.3->nbclassic>=0.4.7->notebook>=4.4.1->widgetsnbextension~=3.6.0->ipywidgets>=7.6.5->pycaret) (1.3.1)\n",
            "Requirement already satisfied: exceptiongroup in /usr/local/lib/python3.10/dist-packages (from anyio<4,>=3.1.0->jupyter-server<3,>=1.8->notebook-shim>=0.2.3->nbclassic>=0.4.7->notebook>=4.4.1->widgetsnbextension~=3.6.0->ipywidgets>=7.6.5->pycaret) (1.2.1)\n",
            "Building wheels for collected packages: pyod\n",
            "  Building wheel for pyod (setup.py) ... \u001b[?25l\u001b[?25hdone\n",
            "  Created wheel for pyod: filename=pyod-2.0.1-py3-none-any.whl size=193267 sha256=3691a127e23026a2e15468b81f2031c9540dd4a4d2a92915eefa738c55e2ab15\n",
            "  Stored in directory: /root/.cache/pip/wheels/94/75/88/b853cf33b0053b0a001dca55b74d515048b7656e736364eb57\n",
            "Successfully built pyod\n",
            "Installing collected packages: kaleido, dash-table, dash-html-components, dash-core-components, xxhash, wurlitzer, tsdownsample, scikit-base, schemdraw, retrying, orjson, joblib, jedi, deprecation, scikit-learn, sktime, scikit-plot, pyod, imbalanced-learn, dash, pmdarima, plotly-resampler, category-encoders, tbats, pycaret\n",
            "  Attempting uninstall: joblib\n",
            "    Found existing installation: joblib 1.4.2\n",
            "    Uninstalling joblib-1.4.2:\n",
            "      Successfully uninstalled joblib-1.4.2\n",
            "  Attempting uninstall: scikit-learn\n",
            "    Found existing installation: scikit-learn 1.2.2\n",
            "    Uninstalling scikit-learn-1.2.2:\n",
            "      Successfully uninstalled scikit-learn-1.2.2\n",
            "  Attempting uninstall: imbalanced-learn\n",
            "    Found existing installation: imbalanced-learn 0.10.1\n",
            "    Uninstalling imbalanced-learn-0.10.1:\n",
            "      Successfully uninstalled imbalanced-learn-0.10.1\n",
            "Successfully installed category-encoders-2.6.3 dash-2.17.1 dash-core-components-2.0.0 dash-html-components-2.0.0 dash-table-5.0.0 deprecation-2.1.0 imbalanced-learn-0.12.3 jedi-0.19.1 joblib-1.3.2 kaleido-0.2.1 orjson-3.10.6 plotly-resampler-0.10.0 pmdarima-2.0.4 pycaret-3.3.2 pyod-2.0.1 retrying-1.3.4 schemdraw-0.15 scikit-base-0.7.8 scikit-learn-1.4.2 scikit-plot-0.3.7 sktime-0.26.0 tbats-1.1.3 tsdownsample-0.1.3 wurlitzer-3.1.1 xxhash-3.4.1\n"
          ]
        }
      ]
    },
    {
      "cell_type": "code",
      "metadata": {
        "id": "7LfnpwSS9nue"
      },
      "source": [
        "#εισαγωγή βιβλιοθηκών - πακέτων\n",
        "import pycaret\n",
        "import pandas as pd\n",
        "import numpy as np\n",
        "import matplotlib.pyplot as plt\n",
        "from pycaret.classification import *"
      ],
      "execution_count": 2,
      "outputs": []
    },
    {
      "cell_type": "code",
      "metadata": {
        "colab": {
          "base_uri": "https://localhost:8080/"
        },
        "id": "ZunbzPVa9a6g",
        "outputId": "f4f3c018-6cba-4773-ec4e-eef8eeb8edef"
      },
      "source": [
        "#εισαγωγή του συνόλου δεδομένων\n",
        "url = 'https://raw.githubusercontent.com/kdemertzis/EKPA/main/Data/dga_domain.csv'\n",
        "df = pd.read_csv(url)\n",
        "#έλεγχος σχήματος συνόλου δεδομένων\n",
        "print(df.shape)"
      ],
      "execution_count": 3,
      "outputs": [
        {
          "output_type": "stream",
          "name": "stdout",
          "text": [
            "(117588, 6)\n"
          ]
        }
      ]
    },
    {
      "cell_type": "code",
      "source": [
        "#ανακάτεμα των δεδομένων\n",
        "df = df.sample(frac = 1)\n",
        "print(df.head())"
      ],
      "metadata": {
        "id": "DCynJDtpYx8z",
        "outputId": "89f51c1d-07d9-4803-e646-26bf200b3779",
        "colab": {
          "base_uri": "https://localhost:8080/"
        }
      },
      "execution_count": 4,
      "outputs": [
        {
          "output_type": "stream",
          "name": "stdout",
          "text": [
            "        length   entropy   alexa_grams   word_grams       diff    class\n",
            "109346      17  3.572469     19.817401    26.837841  -7.020441      dga\n",
            "35732       20  3.584184     75.995196   103.984479 -27.989283    legit\n",
            "43275        8  2.750000     28.005781    40.514101 -12.508321    legit\n",
            "73725       19  3.181366     64.865762    99.602322 -34.736560    legit\n",
            "5749         3  1.584963      0.000000     0.000000   0.000000  suspect\n"
          ]
        }
      ]
    },
    {
      "cell_type": "code",
      "metadata": {
        "id": "J6y3Zhq2-EZ8"
      },
      "source": [
        "#εγκατάσταση του συνόλου δεδομένων\n",
        "grid = setup(data=df, target=df.columns[-1], html=False, verbose=False)"
      ],
      "execution_count": 5,
      "outputs": []
    },
    {
      "cell_type": "code",
      "metadata": {
        "colab": {
          "base_uri": "https://localhost:8080/"
        },
        "id": "ZGJ7kigzA1Rf",
        "outputId": "44a9613f-e48b-4878-ca0b-ae3414435cef"
      },
      "source": [
        "#σύγκριση των διαθέσιμων μοντέλων ΜΜ\n",
        "best = compare_models(cross_validation=False, n_select = 1)\n",
        "%load_ext tensorboard"
      ],
      "execution_count": 6,
      "outputs": [
        {
          "output_type": "stream",
          "name": "stderr",
          "text": [
            "                                                           "
          ]
        },
        {
          "output_type": "stream",
          "name": "stdout",
          "text": [
            "                                    Model  Accuracy     AUC  Recall   Prec.  \\\n",
            "lightgbm  Light Gradient Boosting Machine    0.8912  0.9137  0.8912  0.8920   \n",
            "gbc          Gradient Boosting Classifier    0.8911  0.9104  0.8911  0.8926   \n",
            "xgboost         Extreme Gradient Boosting    0.8899  0.9120  0.8899  0.8897   \n",
            "rf               Random Forest Classifier    0.8841  0.8978  0.8841  0.8805   \n",
            "lr                    Logistic Regression    0.8769  0.8770  0.8769  0.8752   \n",
            "knn                K Neighbors Classifier    0.8753  0.8696  0.8753  0.8704   \n",
            "et                 Extra Trees Classifier    0.8739  0.8898  0.8739  0.8686   \n",
            "svm                   SVM - Linear Kernel    0.8712  0.0000  0.8712  0.8688   \n",
            "lda          Linear Discriminant Analysis    0.8519  0.8606  0.8519  0.8562   \n",
            "qda       Quadratic Discriminant Analysis    0.8419  0.8814  0.8419  0.8444   \n",
            "ridge                    Ridge Classifier    0.8345  0.0000  0.8345  0.8494   \n",
            "dt               Decision Tree Classifier    0.8276  0.7904  0.8276  0.8297   \n",
            "ada                  Ada Boost Classifier    0.7672  0.5772  0.7672  0.6419   \n",
            "nb                            Naive Bayes    0.7663  0.7818  0.7663  0.7401   \n",
            "dummy                    Dummy Classifier    0.7342  0.0000  0.7342  0.5391   \n",
            "\n",
            "              F1   Kappa     MCC  TT (Sec)  \n",
            "lightgbm  0.8827  0.7053  0.7222      1.54  \n",
            "gbc       0.8820  0.7042  0.7225     61.81  \n",
            "xgboost   0.8818  0.7035  0.7185      4.48  \n",
            "rf        0.8775  0.6936  0.7027     23.60  \n",
            "lr        0.8683  0.6680  0.6825     10.57  \n",
            "knn       0.8687  0.6715  0.6795      0.14  \n",
            "et        0.8686  0.6723  0.6774      6.36  \n",
            "svm       0.8622  0.6522  0.6666      5.01  \n",
            "lda       0.8399  0.5846  0.6099      0.13  \n",
            "qda       0.8421  0.6205  0.6209      0.09  \n",
            "ridge     0.8019  0.4872  0.5515      0.09  \n",
            "dt        0.8286  0.5820  0.5822      1.03  \n",
            "ada       0.6735  0.2221  0.3353      4.50  \n",
            "nb        0.7448  0.3698  0.3801      0.05  \n",
            "dummy     0.6217  0.0000  0.0000      0.04  \n"
          ]
        },
        {
          "output_type": "stream",
          "name": "stderr",
          "text": [
            "\r"
          ]
        }
      ]
    },
    {
      "cell_type": "code",
      "metadata": {
        "colab": {
          "base_uri": "https://localhost:8080/"
        },
        "id": "TorFLtNx-kCm",
        "outputId": "72579d53-c027-4d4c-ebdf-ffb4cce383e5"
      },
      "source": [
        "#αναφορά των υπερπαραμέτρων του μοντέλου με την υψηλότερη απόδοση\n",
        "print(best)"
      ],
      "execution_count": 7,
      "outputs": [
        {
          "output_type": "stream",
          "name": "stdout",
          "text": [
            "LGBMClassifier(boosting_type='gbdt', class_weight=None, colsample_bytree=1.0,\n",
            "               importance_type='split', learning_rate=0.1, max_depth=-1,\n",
            "               min_child_samples=20, min_child_weight=0.001, min_split_gain=0.0,\n",
            "               n_estimators=100, n_jobs=-1, num_leaves=31, objective=None,\n",
            "               random_state=8389, reg_alpha=0.0, reg_lambda=0.0, subsample=1.0,\n",
            "               subsample_for_bin=200000, subsample_freq=0)\n"
          ]
        }
      ]
    },
    {
      "cell_type": "code",
      "metadata": {
        "id": "XJTnGY38yxrE",
        "outputId": "afdefe0f-98ae-44ec-9490-461ec14ec914",
        "colab": {
          "base_uri": "https://localhost:8080/",
          "height": 206,
          "referenced_widgets": [
            "404adf02514d420aa456dad5eb383da4",
            "e9d8c5c0d2e1448f87a22df62b1c7361",
            "f1e5e7139da84dc9939171c5149bbad6",
            "3a7edf5d1d6b4004b42c18ba087efe6c",
            "f6a376e220ef4a21ae7bd38c1f03b6ff",
            "24e030b1738348a585b348ff5addec71",
            "7aeacd2a97774cadbb1e7273d63341c1"
          ]
        }
      },
      "source": [
        "#μέτρα αξιολόγησης του μοντέλου με την υψηλότερη απόδοση\n",
        "evaluate_model(best)"
      ],
      "execution_count": 8,
      "outputs": [
        {
          "output_type": "display_data",
          "data": {
            "text/plain": [
              "interactive(children=(ToggleButtons(description='Plot Type:', icons=('',), options=(('Pipeline Plot', 'pipelin…"
            ],
            "application/vnd.jupyter.widget-view+json": {
              "version_major": 2,
              "version_minor": 0,
              "model_id": "404adf02514d420aa456dad5eb383da4"
            }
          },
          "metadata": {
            "application/vnd.jupyter.widget-view+json": {
              "colab": {
                "custom_widget_manager": {
                  "url": "https://ssl.gstatic.com/colaboratory-static/widgets/colab-cdn-widget-manager/2b70e893a8ba7c0f/manager.min.js"
                }
              }
            }
          }
        }
      ]
    }
  ]
}